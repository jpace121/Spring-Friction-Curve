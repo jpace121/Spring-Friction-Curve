{
 "metadata": {
  "name": "Dynamics V2!"
 },
 "nbformat": 3,
 "nbformat_minor": 0,
 "worksheets": [
  {
   "cells": [
    {
     "cell_type": "markdown",
     "metadata": {},
     "source": [
      "#What I've Done so Far#\n",
      "\n",
      "I solved for instantaneous velocity with respect to the phi and the velocity immediately before the instant velocity.\n"
     ]
    },
    {
     "cell_type": "code",
     "collapsed": false,
     "input": [
      "from sage.all import *\n",
      "\n",
      "#v0 is v_i-1\n",
      "#v is v_i\n",
      "#phi is in radians\n",
      "\n",
      "d_theta = .1\n",
      "g = 9.81\n",
      "r = 4 \n",
      "v_0, m, phi, mu, k = var('v_0 m phi mu k')\n"
     ],
     "language": "python",
     "metadata": {},
     "outputs": [],
     "prompt_number": 2
    },
    {
     "cell_type": "code",
     "collapsed": false,
     "input": [
      "def wt(m, g, phi):\n",
      "    \"\"\"Calculate the weight force in the tangent direction.\"\"\"\n",
      "    w = m*g*cos(phi)\n",
      "    return w\n",
      "\n",
      "def wn(m,g,phi):\n",
      "    \"\"\"Calculate the weight force in the normal direction\"\"\"\n",
      "    w = m*g*sin(phi)\n",
      "    return w\n",
      "\n",
      "def B(phi):\n",
      "    \"\"\"The angle beta, in terms of phi\"\"\"\n",
      "    b = arctan( (2+4*cos(phi))/(4*sin(phi)) ) - ((pi/2)-phi)\n",
      "    return b\n",
      "\n",
      "def Fsn(phi,k,B):\n",
      "    \"\"\"The force of the spring in the normal direction\"\"\"\n",
      "    f = k*cos(B(phi))*( sqrt(20+16*cos(phi)) - sqrt(20) )\n",
      "    return f\n",
      "\n",
      "def Fst(phi,k,B):\n",
      "    \"\"\"The force of the spring in the tangent direction\"\"\"\n",
      "    f = k*sin(B(phi))*( sqrt(20+16*cos(phi)) - sqrt(20) )\n",
      "    return f\n"
     ],
     "language": "python",
     "metadata": {},
     "outputs": [],
     "prompt_number": 3
    },
    {
     "cell_type": "code",
     "collapsed": false,
     "input": [
      "v = sqrt( (wt(m,g,phi)-(m*v_0**2)/(2*r*d_theta)+mu*(Fsn(phi,k,B)-wn(m,g,phi)-Fst(phi,k,B)))/((m*mu)/(r)-(m)/(2*r*d_theta)) )\n",
      "\n",
      "v.variables()"
     ],
     "language": "python",
     "metadata": {},
     "outputs": [
      {
       "output_type": "pyout",
       "prompt_number": 4,
       "text": [
        "(k, m, mu, phi, v_0)"
       ]
      }
     ],
     "prompt_number": "*"
    },
    {
     "cell_type": "code",
     "collapsed": false,
     "input": [
      "yodog = v.subs(k=100,m=15,phi=90,v_0=15,mu=1)\n",
      "print n(yodog)"
     ],
     "language": "python",
     "metadata": {},
     "outputs": [
      {
       "output_type": "stream",
       "stream": "stdout",
       "text": [
        "17.2219519788368\n"
       ]
      }
     ],
     "prompt_number": "*"
    },
    {
     "cell_type": "markdown",
     "metadata": {},
     "source": [
      "##Find Final Velocity from given parameters##"
     ]
    },
    {
     "cell_type": "code",
     "collapsed": false,
     "input": [
      "theta_array_size = int((pi/2)/d_theta)\n",
      "theta_array = [None]*theta_array_size\n",
      "velocity_array = [None]*theta_array_size\n",
      "\n",
      "velocity_array[0] = v_initial=15\n",
      "theta_array[0] = pi/2\n",
      "\n",
      "for n in range(1,theta_array_size):\n",
      "    velocity_array[n] = v.subs(k=100,m=15,phi=theta_array[n],v_0=velocity_array[n-1],mu=.25)"
     ],
     "language": "python",
     "metadata": {},
     "outputs": [],
     "prompt_number": "*"
    },
    {
     "cell_type": "code",
     "collapsed": false,
     "input": [],
     "language": "python",
     "metadata": {},
     "outputs": [],
     "prompt_number": "*"
    }
   ],
   "metadata": {}
  }
 ]
}