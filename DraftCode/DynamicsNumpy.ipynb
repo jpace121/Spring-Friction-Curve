{
 "metadata": {
  "name": "DynamicsNumpy"
 },
 "nbformat": 3,
 "nbformat_minor": 0,
 "worksheets": [
  {
   "cells": [
    {
     "cell_type": "markdown",
     "metadata": {},
     "source": [
      "#What I've Done so Far#\n",
      "\n",
      "I solved for instantaneous velocity with respect to the phi and the velocity immediately before the instant velocity.\n"
     ]
    },
    {
     "cell_type": "code",
     "collapsed": false,
     "input": [
      "#from sage.all import *\n",
      "from numpy import *\n",
      "from sympy import *\n",
      "from __future__ import division\n",
      "\n",
      "init_printing()\n",
      "\n",
      "#v0 is v_i-1\n",
      "#v is v_i\n",
      "#phi is in radians\n",
      "\n",
      "d_theta = .01\n",
      "g = 9.81\n",
      "r = 4 \n",
      "v_0, m, phi, mu, k = var('v_0 m phi mu k')\n"
     ],
     "language": "python",
     "metadata": {},
     "outputs": [],
     "prompt_number": 1
    },
    {
     "cell_type": "code",
     "collapsed": false,
     "input": [
      "def wt(m, g, phi):\n",
      "    \"\"\"Calculate the weight force in the tangent direction.\"\"\"\n",
      "    w = m*g*cos(phi)\n",
      "    return w\n",
      "\n",
      "def wn(m,g,phi):\n",
      "    \"\"\"Calculate the weight force in the normal direction\"\"\"\n",
      "    w = m*g*sin(phi)\n",
      "    return w\n",
      "\n",
      "def B(phi):\n",
      "    \"\"\"The angle beta, in terms of phi\"\"\"\n",
      "    b = atan( (2+4*cos(phi))/(4*sin(phi)) ) - ((pi/2)-phi)\n",
      "    return b\n",
      "\n",
      "def Fsn(phi,k,B):\n",
      "    \"\"\"The force of the spring in the normal direction\"\"\"\n",
      "    f = k*cos(B(phi))*( sqrt(20+16*cos(phi)) - sqrt(20) )\n",
      "    return f\n",
      "\n",
      "def Fst(phi,k,B):\n",
      "    \"\"\"The force of the spring in the tangent direction\"\"\"\n",
      "    f = k*sin(B(phi))*( sqrt(20+16*cos(phi)) - sqrt(20) )\n",
      "    return f\n"
     ],
     "language": "python",
     "metadata": {},
     "outputs": [],
     "prompt_number": 2
    },
    {
     "cell_type": "code",
     "collapsed": false,
     "input": [
      "v = sqrt( (wt(m,g,phi)-(m*v_0**2)/(2*r*d_theta)+mu*(Fsn(phi,k,B)-wn(m,g,phi)-Fst(phi,k,B)))/((m*mu)/(r)-(m)/(2*r*d_theta)) )\n",
      "\n",
      "v"
     ],
     "language": "python",
     "metadata": {},
     "outputs": [
      {
       "latex": [
        "$$\\sqrt{\\frac{- 12.5 m v_{0}^{2} + 9.81 m \\cos{\\left (\\phi \\right )} + \\mu \\left(k \\left(\\sqrt{16 \\cos{\\left (\\phi \\right )} + 20} - 2 \\sqrt{5}\\right) \\sin{\\left (\\phi + \\operatorname{atan}{\\left (\\frac{4 \\cos{\\left (\\phi \\right )} + 2}{4 \\sin{\\left (\\phi \\right )}} \\right )} \\right )} + k \\left(\\sqrt{16 \\cos{\\left (\\phi \\right )} + 20} - 2 \\sqrt{5}\\right) \\cos{\\left (\\phi + \\operatorname{atan}{\\left (\\frac{4 \\cos{\\left (\\phi \\right )} + 2}{4 \\sin{\\left (\\phi \\right )}} \\right )} \\right )} - 9.81 m \\sin{\\left (\\phi \\right )}\\right)}{\\frac{1}{4} m \\mu - 12.5 m}}$$"
       ],
       "output_type": "pyout",
       "png": "[encoded data removed]",
       "prompt_number": 3,
       "text": [
        "        ______________________________________________________________________\n",
        "       \u2571            2                     \u239b  \u239b  ________________       ___\u239e   \n",
        "      \u2571  - 12.5\u22c5m\u22c5v\u2080  + 9.81\u22c5m\u22c5cos(\u03c6) + \u03bc\u22c5\u239ck\u22c5\u239d\u2572\u2571 16\u22c5cos(\u03c6) + 20  - 2\u22c5\u2572\u2571 5 \u23a0\u22c5si\n",
        "     \u2571                                    \u239d                                   \n",
        "    \u2571    \u2500\u2500\u2500\u2500\u2500\u2500\u2500\u2500\u2500\u2500\u2500\u2500\u2500\u2500\u2500\u2500\u2500\u2500\u2500\u2500\u2500\u2500\u2500\u2500\u2500\u2500\u2500\u2500\u2500\u2500\u2500\u2500\u2500\u2500\u2500\u2500\u2500\u2500\u2500\u2500\u2500\u2500\u2500\u2500\u2500\u2500\u2500\u2500\u2500\u2500\u2500\u2500\u2500\u2500\u2500\u2500\u2500\u2500\u2500\u2500\u2500\u2500\u2500\u2500\u2500\u2500\u2500\u2500\u2500\n",
        "   \u2571                                                                          \n",
        "  \u2571                                                                           \n",
        "\u2572\u2571                                                                            \n",
        "\n",
        "______________________________________________________________________________\n",
        " \u239b        \u239b4\u22c5cos(\u03c6) + 2\u239e\u239e     \u239b  ________________       ___\u239e    \u239b        \u239b4\u22c5co\n",
        "n\u239c\u03c6 + atan\u239c\u2500\u2500\u2500\u2500\u2500\u2500\u2500\u2500\u2500\u2500\u2500\u2500\u239f\u239f + k\u22c5\u239d\u2572\u2571 16\u22c5cos(\u03c6) + 20  - 2\u22c5\u2572\u2571 5 \u23a0\u22c5cos\u239c\u03c6 + atan\u239c\u2500\u2500\u2500\u2500\n",
        " \u239d        \u239d  4\u22c5sin(\u03c6)  \u23a0\u23a0                                       \u239d        \u239d  4\u22c5\n",
        "\u2500\u2500\u2500\u2500\u2500\u2500\u2500\u2500\u2500\u2500\u2500\u2500\u2500\u2500\u2500\u2500\u2500\u2500\u2500\u2500\u2500\u2500\u2500\u2500\u2500\u2500\u2500\u2500\u2500\u2500\u2500\u2500\u2500\u2500\u2500\u2500\u2500\u2500\u2500\u2500\u2500\u2500\u2500\u2500\u2500\u2500\u2500\u2500\u2500\u2500\u2500\u2500\u2500\u2500\u2500\u2500\u2500\u2500\u2500\u2500\u2500\u2500\u2500\u2500\u2500\u2500\u2500\u2500\u2500\u2500\u2500\u2500\u2500\u2500\u2500\u2500\u2500\u2500\n",
        "            m\u22c5\u03bc                                                               \n",
        "            \u2500\u2500\u2500 - 12.5\u22c5m                                                      \n",
        "             4                                                                \n",
        "\n",
        "____________________________\n",
        "s(\u03c6) + 2\u239e\u239e                \u239e \n",
        "\u2500\u2500\u2500\u2500\u2500\u2500\u2500\u2500\u239f\u239f - 9.81\u22c5m\u22c5sin(\u03c6)\u239f \n",
        "sin(\u03c6)  \u23a0\u23a0                \u23a0 \n",
        "\u2500\u2500\u2500\u2500\u2500\u2500\u2500\u2500\u2500\u2500\u2500\u2500\u2500\u2500\u2500\u2500\u2500\u2500\u2500\u2500\u2500\u2500\u2500\u2500\u2500\u2500\u2500 \n",
        "                            \n",
        "                            \n",
        "                            "
       ]
      }
     ],
     "prompt_number": 3
    },
    {
     "cell_type": "code",
     "collapsed": false,
     "input": [
      "yodog = v.subs(k,100)\n",
      "yodog = yodog.subs(m,15).subs(phi,90).subs(v_0,15).subs(mu,0)\n",
      "\n",
      "print '%.6f' %yodog"
     ],
     "language": "python",
     "metadata": {},
     "outputs": [
      {
       "output_type": "stream",
       "stream": "stdout",
       "text": [
        "15.011717\n"
       ]
      }
     ],
     "prompt_number": 4
    },
    {
     "cell_type": "markdown",
     "metadata": {},
     "source": [
      "##Find Final Velocity from given parameters##"
     ]
    },
    {
     "cell_type": "code",
     "collapsed": false,
     "input": [
      "v0 = 15\n",
      "theta = pi/2\n",
      "v = v.subs(k,500).subs(m,15).subs(mu,.25)\n",
      " \n",
      "while theta > 0: \n",
      "    v0 = v.subs(phi,theta).subs(v_0,v0)\n",
      "    theta=theta-d_theta"
     ],
     "language": "python",
     "metadata": {},
     "outputs": [],
     "prompt_number": 5
    },
    {
     "cell_type": "code",
     "collapsed": false,
     "input": [
      "print \"%.10f\" %v0"
     ],
     "language": "python",
     "metadata": {},
     "outputs": [
      {
       "output_type": "stream",
       "stream": "stdout",
       "text": [
        "17.6811624426\n"
       ]
      }
     ],
     "prompt_number": 6
    },
    {
     "cell_type": "code",
     "collapsed": false,
     "input": [
      "v0 = 15\n",
      "theta = pi/2\n",
      "\n",
      "while theta > 0: \n",
      "    v0 = v.subs(k,1000).subs(m,15).subs(phi,theta).subs(v_0,v0).subs(mu,.25)\n",
      "    theta=theta-d_theta\n",
      "    "
     ],
     "language": "python",
     "metadata": {},
     "outputs": [],
     "prompt_number": 7
    },
    {
     "cell_type": "code",
     "collapsed": false,
     "input": [
      "print \"%.10f\" %v0"
     ],
     "language": "python",
     "metadata": {},
     "outputs": [
      {
       "output_type": "stream",
       "stream": "stdout",
       "text": [
        "17.6811624426\n"
       ]
      }
     ],
     "prompt_number": 8
    },
    {
     "cell_type": "code",
     "collapsed": false,
     "input": [],
     "language": "python",
     "metadata": {},
     "outputs": [],
     "prompt_number": 8
    }
   ],
   "metadata": {}
  }
 ]
}